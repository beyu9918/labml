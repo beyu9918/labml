{
 "cells": [
  {
   "cell_type": "markdown",
   "id": "29da8930",
   "metadata": {},
   "source": [
    "```python\n",
    "step, histograms = filter_steps(steps=loss[:,0], values=loss[:, 1:10], from=100, to=500)\n",
    "step, histograms = merge_histograms(steps=step, histograms=histograms, max_steps=100)\n",
    "step, values = filter_steps(steps=loss[:,0], values=loss[:, 1:], from=100, to=500)\n",
    "loss = np.concatenate(step, value)\n",
    "losses = filter_dict(stocks, '*loss')\n",
    "losses = {k: merge_steps_histogram(filter_steps(loss, from=100, to=500), max_steps=100) for k, loss in losses}\n",
    "# losses = {k: filter_steps(loss, from=100, to=500) for k, loss in losses}\n",
    "\n",
    "analytics.distribution(stocks['*loss'][100:5000],\n",
    "                       width=400, height=300, height_minimap=50)\n",
    "```"
   ]
  },
  {
   "cell_type": "code",
   "execution_count": 40,
   "id": "initial_id",
   "metadata": {
    "ExecuteTime": {
     "end_time": "2023-09-16T15:54:13.666182Z",
     "start_time": "2023-09-16T15:54:13.659846Z"
    },
    "collapsed": true
   },
   "outputs": [
    {
     "name": "stdout",
     "output_type": "stream",
     "text": [
      "[0.63716196 1.37101286 2.30204611 2.35839393 3.11772068 3.29011083\n",
      " 3.95238865 4.81489281 5.31197845 5.37182577]\n"
     ]
    }
   ],
   "source": [
    "import numpy as np\n",
    "\n",
    "size = 10000\n",
    "\n",
    "# dummy loss data\n",
    "losses = np.random.rand(size)\n",
    "for i in range(1, size):\n",
    "    losses[i] = losses[i-1] * 0.99 + losses[i]\n",
    "print(losses[:10])"
   ]
  },
  {
   "cell_type": "code",
   "execution_count": 41,
   "id": "14a417f74bfd968c",
   "metadata": {
    "collapsed": false
   },
   "outputs": [
    {
     "data": {
      "text/plain": [
       "[<matplotlib.lines.Line2D at 0x286a71f10>]"
      ]
     },
     "execution_count": 41,
     "metadata": {},
     "output_type": "execute_result"
    },
    {
     "data": {
      "image/png": "[encoded data removed]",
      "text/plain": [
       "<Figure size 432x288 with 1 Axes>"
      ]
     },
     "metadata": {
      "needs_background": "light"
     },
     "output_type": "display_data"
    }
   ],
   "source": [
    "import matplotlib.pyplot as plt\n",
    "\n",
    "plt.plot(losses)"
   ]
  },
  {
   "cell_type": "code",
   "execution_count": 42,
   "id": "8818a2ed",
   "metadata": {},
   "outputs": [],
   "source": [
    "# create step data\n",
    "steps = np.arange(size)\n",
    "\n",
    "# create random data\n",
    "data = [[loss + r for r in np.random.normal(size=1000)] for loss in losses]"
   ]
  },
  {
   "cell_type": "code",
   "execution_count": 43,
   "id": "13ec7108",
   "metadata": {},
   "outputs": [
    {
     "data": {
      "text/plain": [
       "(10000, 1000)"
      ]
     },
     "execution_count": 43,
     "metadata": {},
     "output_type": "execute_result"
    }
   ],
   "source": [
    "data = np.array(data)\n",
    "data.shape"
   ]
  },
  {
   "cell_type": "code",
   "execution_count": null,
   "id": "cff7112f",
   "metadata": {},
   "outputs": [],
   "source": []
  }
 ],
 "metadata": {
  "kernelspec": {
   "display_name": "Python 3",
   "language": "python",
   "name": "python3"
  },
  "language_info": {
   "codemirror_mode": {
    "name": "ipython",
    "version": 3
   },
   "file_extension": ".py",
   "mimetype": "text/x-python",
   "name": "python",
   "nbconvert_exporter": "python",
   "pygments_lexer": "ipython3",
   "version": "3.9.17"
  }
 },
 "nbformat": 4,
 "nbformat_minor": 5
}
